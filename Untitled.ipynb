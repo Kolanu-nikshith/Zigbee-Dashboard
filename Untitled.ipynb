{
 "cells": [
  {
   "cell_type": "code",
   "execution_count": 25,
   "id": "827f2117",
   "metadata": {},
   "outputs": [],
   "source": [
    "data1 = \"TEMPERATURE:50,ID:balcony\"\n",
    "data11 = data1.split(',')\n",
    "co = data11[0].split(':')[1].strip()\n",
    "idvalue = data11[1].split(':')[1].strip()\n"
   ]
  },
  {
   "cell_type": "code",
   "execution_count": 26,
   "id": "aeec66bb",
   "metadata": {},
   "outputs": [
    {
     "data": {
      "text/plain": [
       "'50'"
      ]
     },
     "execution_count": 26,
     "metadata": {},
     "output_type": "execute_result"
    }
   ],
   "source": [
    "co\n"
   ]
  },
  {
   "cell_type": "code",
   "execution_count": 27,
   "id": "3f5cd8f7",
   "metadata": {},
   "outputs": [
    {
     "data": {
      "text/plain": [
       "'balcony'"
      ]
     },
     "execution_count": 27,
     "metadata": {},
     "output_type": "execute_result"
    }
   ],
   "source": [
    "idvalue"
   ]
  },
  {
   "cell_type": "code",
   "execution_count": 18,
   "id": "3d0b62a6",
   "metadata": {},
   "outputs": [
    {
     "data": {
      "text/plain": [
       "'20'"
      ]
     },
     "execution_count": 18,
     "metadata": {},
     "output_type": "execute_result"
    }
   ],
   "source": [
    "smoke\n"
   ]
  },
  {
   "cell_type": "code",
   "execution_count": 19,
   "id": "3ecf1e7d",
   "metadata": {},
   "outputs": [
    {
     "data": {
      "text/plain": [
       "'balcony'"
      ]
     },
     "execution_count": 19,
     "metadata": {},
     "output_type": "execute_result"
    }
   ],
   "source": [
    "idvalue"
   ]
  },
  {
   "cell_type": "code",
   "execution_count": null,
   "id": "9f37faf8",
   "metadata": {},
   "outputs": [],
   "source": []
  }
 ],
 "metadata": {
  "kernelspec": {
   "display_name": "Python 3",
   "language": "python",
   "name": "python3"
  },
  "language_info": {
   "codemirror_mode": {
    "name": "ipython",
    "version": 3
   },
   "file_extension": ".py",
   "mimetype": "text/x-python",
   "name": "python",
   "nbconvert_exporter": "python",
   "pygments_lexer": "ipython3",
   "version": "3.6.9"
  }
 },
 "nbformat": 4,
 "nbformat_minor": 5
}
